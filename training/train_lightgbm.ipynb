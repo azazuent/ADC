{
 "cells": [
  {
   "cell_type": "code",
   "execution_count": 3,
   "id": "977a5095-030d-4697-aaa0-92440530ed81",
   "metadata": {},
   "outputs": [],
   "source": [
    "import lightgbm as lgb\n",
    "from sklearn.metrics import mean_squared_error, accuracy_score\n",
    "from sklearn.model_selection import train_test_split"
   ]
  },
  {
   "cell_type": "code",
   "execution_count": null,
   "id": "a347535f-d08c-41db-9f6d-a7fa83cda519",
   "metadata": {},
   "outputs": [],
   "source": [
    "def build_lag_features(df, feature_cols, target_col, window_size=30, horizon=10):\n",
    "    X, y = [], []\n",
    "    for i in range(window_size, len(df) - horizon):\n",
    "        features = []\n",
    "        for col in feature_cols:\n",
    "            lagged = df[col].iloc[i - window_size:i].values\n",
    "            features.extend(lagged)\n",
    "        X.append(features)\n",
    "        y.append(df[target_col].iloc[i + horizon])\n",
    "    return np.array(X), np.array(y)"
   ]
  },
  {
   "cell_type": "code",
   "execution_count": null,
   "id": "63224ed7-2ba4-4e0f-8278-3782fcb17d1e",
   "metadata": {},
   "outputs": [],
   "source": [
    "# build lag matrix\n",
    "X_lag, y_lag = build_lag_features(df, feature_cols, target_col=\"adc\", window_size=30, horizon=10)\n",
    "\n",
    "# train/test split\n",
    "X_train, X_test, y_train, y_test = train_test_split(X_lag, y_lag, test_size=0.2, shuffle=False)\n",
    "\n",
    "# модель\n",
    "model = lgb.LGBMRegressor(n_estimators=200, learning_rate=0.05)\n",
    "model.fit(X_train, y_train)"
   ]
  },
  {
   "cell_type": "code",
   "execution_count": null,
   "id": "2765cf99-dd68-41a2-be34-9ef753ea2a40",
   "metadata": {},
   "outputs": [],
   "source": [
    "# прогноз\n",
    "y_pred = model.predict(X_test)\n",
    "rmse = np.sqrt(mean_squared_error(y_test, y_pred))\n",
    "sign_acc = accuracy_score(y_test > 0, y_pred > 0)\n",
    "\n",
    "print(f\"RMSE: {rmse:.4f}\")\n",
    "print(f\"Sign Accuracy: {sign_acc:.4f}\")"
   ]
  },
  {
   "cell_type": "code",
   "execution_count": null,
   "id": "6885b548-86aa-4718-9fe1-0133464ad7ce",
   "metadata": {},
   "outputs": [],
   "source": [
    "# --- Визуализация ---\n",
    "plt.figure(figsize=(12, 5))\n",
    "plt.plot(y_test[:10000], label=\"True ADC\")\n",
    "plt.plot(y_pred[:10000], label=\"Predicted ADC\")\n",
    "plt.axhline(0, color='gray', linestyle='--', linewidth=0.5)\n",
    "plt.title(\"LSTM Forecast vs True ADC\")\n",
    "plt.legend()\n",
    "plt.grid(True)\n",
    "plt.tight_layout()\n",
    "plt.show()"
   ]
  }
 ],
 "metadata": {
  "kernelspec": {
   "display_name": "Python 3 (ipykernel)",
   "language": "python",
   "name": "python3"
  },
  "language_info": {
   "codemirror_mode": {
    "name": "ipython",
    "version": 3
   },
   "file_extension": ".py",
   "mimetype": "text/x-python",
   "name": "python",
   "nbconvert_exporter": "python",
   "pygments_lexer": "ipython3",
   "version": "3.12.6"
  }
 },
 "nbformat": 4,
 "nbformat_minor": 5
}
