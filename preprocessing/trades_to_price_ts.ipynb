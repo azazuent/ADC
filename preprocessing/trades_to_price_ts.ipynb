{
 "cells": [
  {
   "cell_type": "code",
   "execution_count": 29,
   "id": "bb825426-f0b1-40ba-9b12-7128d5b3421f",
   "metadata": {},
   "outputs": [],
   "source": [
    "import pandas as pd"
   ]
  },
  {
   "cell_type": "code",
   "execution_count": 46,
   "id": "b9c9856e-6cf9-493b-9e3b-8a51fd89f37d",
   "metadata": {},
   "outputs": [],
   "source": [
    "# Parameters\n",
    "input_file = \"./data_raw/trades/BTC.csv\"\n",
    "step_ms = 500\n",
    "output_file = f\"./data/prices/BTC_{step_ms}ms.csv\""
   ]
  },
  {
   "cell_type": "code",
   "execution_count": 47,
   "id": "aa596835-277e-408d-b662-e5224a55fa2a",
   "metadata": {},
   "outputs": [],
   "source": [
    "# Read Data\n",
    "df = pd.read_csv(input_file)\n",
    "df = df.sort_values(\"timestamp\").reset_index(drop=True)"
   ]
  },
  {
   "cell_type": "code",
   "execution_count": 48,
   "id": "b88d07a5-6419-4dc8-b5cd-1d4fc15e36ef",
   "metadata": {},
   "outputs": [],
   "source": [
    "# Подготовка временной шкалы\n",
    "start = df['timestamp'].iloc[0]\n",
    "end = df['timestamp'].iloc[-1]\n",
    "time_index = list(range(start, end + step_ms, step_ms))\n",
    "\n",
    "# Генерация ряда\n",
    "result = []\n",
    "trade_idx = 0\n",
    "\n",
    "for t in time_index:\n",
    "    # Продвигаем указатель на последнюю сделку, не позже текущего времени\n",
    "    while trade_idx + 1 < len(df) and df['timestamp'][trade_idx + 1] <= t:\n",
    "        trade_idx += 1\n",
    "    price = df['price'][trade_idx]\n",
    "    result.append((t, price))\n",
    "\n",
    "# В DataFrame\n",
    "ts = pd.DataFrame(result, columns=[\"timestamp\", \"price\"])"
   ]
  },
  {
   "cell_type": "code",
   "execution_count": 49,
   "id": "acacdf70-1236-48db-a065-770a456897af",
   "metadata": {},
   "outputs": [],
   "source": [
    "ts.to_csv(output_file, index=False)"
   ]
  },
  {
   "cell_type": "code",
   "execution_count": null,
   "id": "b6470cf2-800c-4506-9b40-8147d0d0e6f7",
   "metadata": {},
   "outputs": [],
   "source": []
  }
 ],
 "metadata": {
  "kernelspec": {
   "display_name": "Python 3 (ipykernel)",
   "language": "python",
   "name": "python3"
  },
  "language_info": {
   "codemirror_mode": {
    "name": "ipython",
    "version": 3
   },
   "file_extension": ".py",
   "mimetype": "text/x-python",
   "name": "python",
   "nbconvert_exporter": "python",
   "pygments_lexer": "ipython3",
   "version": "3.12.6"
  }
 },
 "nbformat": 4,
 "nbformat_minor": 5
}
