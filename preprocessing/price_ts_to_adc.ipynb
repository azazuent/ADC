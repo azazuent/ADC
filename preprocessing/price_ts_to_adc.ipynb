{
 "cells": [
  {
   "cell_type": "code",
   "execution_count": 6,
   "id": "1652e555-119b-48f2-a2bb-66c7b2466415",
   "metadata": {},
   "outputs": [],
   "source": [
    "import numpy as np\n",
    "import pandas as pd"
   ]
  },
  {
   "cell_type": "code",
   "execution_count": 54,
   "id": "8c0f25fe-916d-43b3-9b62-37a3e0ce5bb9",
   "metadata": {},
   "outputs": [],
   "source": [
    "def aggregated_directional_change(\n",
    "    prices: pd.DataFrame,\n",
    "    w_min: int = 1,\n",
    "    w_max: int = 50,\n",
    "    alpha_func=None,\n",
    "    smooth_func=None,\n",
    "    epsilon: float = 1e-8\n",
    ") -> np.ndarray:\n",
    "    \"\"\"\n",
    "    Вычисляет Aggregated Directional Change с симметричными окнами:\n",
    "    (x_{t+w} - x_{t-w}) / (x_t + ε)\n",
    "    \"\"\"\n",
    "    prices = df[\"price\"].values\n",
    "    n = len(prices)\n",
    "\n",
    "    if alpha_func is None:\n",
    "        alpha_func = lambda w: 1.0 / w\n",
    "    if smooth_func is None:\n",
    "        smooth_func = lambda x: x\n",
    "\n",
    "    ws = np.arange(w_min, w_max + 1)\n",
    "    weights = np.array([alpha_func(w) for w in ws])\n",
    "\n",
    "    adc = np.full(n, np.nan)\n",
    "\n",
    "    for i, w in enumerate(ws):\n",
    "        left = np.roll(prices, w)\n",
    "        right = np.roll(prices, -w)\n",
    "        center = prices\n",
    "\n",
    "        # Вырезаем края, чтобы не было артефактов от np.roll\n",
    "        valid_range = np.arange(w, n - w)\n",
    "\n",
    "        delta = (right[valid_range] - left[valid_range]) / (center[valid_range] + epsilon)\n",
    "        smoothed = smooth_func(delta)\n",
    "        weighted = weights[i] * smoothed\n",
    "\n",
    "        if i == 0:\n",
    "            acc = np.zeros_like(prices, dtype=np.float64)\n",
    "        acc[valid_range] += weighted\n",
    "\n",
    "    # Оставим значения только в валидной зоне (вокруг которых были данные)\n",
    "    adc[w_max: n - w_max] = acc[w_max: n - w_max]\n",
    "\n",
    "    return adc"
   ]
  },
  {
   "cell_type": "code",
   "execution_count": 160,
   "id": "8412209d-c5fa-4083-bfa9-6cce889d0197",
   "metadata": {},
   "outputs": [],
   "source": [
    "w = 100\n",
    "\n",
    "input_file = \"../data/prices/BTC_1000ms.csv\"\n",
    "output_file = f\"../data/adc/BTC_1000ms_w{w}.csv\"\n",
    "\n",
    "df = pd.read_csv(input_file)\n",
    "adc = aggregated_directional_change(\n",
    "    df,\n",
    "    w_min=1,\n",
    "    w_max=w,\n",
    "    alpha_func=lambda w: 1 / w ** (1/2),\n",
    "    smooth_func=lambda x: np.tanh(5 * x)\n",
    ")"
   ]
  },
  {
   "cell_type": "code",
   "execution_count": 161,
   "id": "b0556fdd-ad42-42b6-8143-1209e94a5612",
   "metadata": {},
   "outputs": [],
   "source": [
    "pd.Series(adc).to_csv(output_file, header=[\"adc\"], index=False)"
   ]
  },
  {
   "cell_type": "code",
   "execution_count": null,
   "id": "b31a8535-abc9-4c3c-8552-ad8ccf474e4b",
   "metadata": {},
   "outputs": [],
   "source": []
  }
 ],
 "metadata": {
  "kernelspec": {
   "display_name": "Python 3 (ipykernel)",
   "language": "python",
   "name": "python3"
  },
  "language_info": {
   "codemirror_mode": {
    "name": "ipython",
    "version": 3
   },
   "file_extension": ".py",
   "mimetype": "text/x-python",
   "name": "python",
   "nbconvert_exporter": "python",
   "pygments_lexer": "ipython3",
   "version": "3.12.6"
  }
 },
 "nbformat": 4,
 "nbformat_minor": 5
}
