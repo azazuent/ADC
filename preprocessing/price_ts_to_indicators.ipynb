{
 "cells": [
  {
   "cell_type": "code",
   "execution_count": 2,
   "id": "f66107b1-a74b-496d-afd3-17a502dce866",
   "metadata": {},
   "outputs": [],
   "source": [
    "import pandas as pd\n",
    "import numpy as np\n",
    "from ta.momentum import RSIIndicator\n",
    "from ta.trend import MACD\n",
    "from ta.volatility import BollingerBands"
   ]
  },
  {
   "cell_type": "code",
   "execution_count": 19,
   "id": "5f8b5ca3-0156-419e-81a1-0722f4b40a63",
   "metadata": {},
   "outputs": [],
   "source": [
    "def calculate_indicators(df: pd.DataFrame, price_col: str = \"price\") -> pd.DataFrame:\n",
    "    indicators = pd.DataFrame()\n",
    "\n",
    "    # log return\n",
    "    indicators[\"log_ret\"] = np.log(df[price_col] / df[price_col].shift(1))\n",
    "\n",
    "    # RSI\n",
    "    rsi = RSIIndicator(close=df[price_col], window=14)\n",
    "    indicators[\"rsi\"] = rsi.rsi()\n",
    "\n",
    "    # MACD\n",
    "    macd = MACD(close=df[price_col], window_slow=26, window_fast=12, window_sign=9)\n",
    "    indicators[\"macd\"] = macd.macd_diff()  # можно использовать .macd() и .macd_signal()\n",
    "\n",
    "    # Moving Averages\n",
    "    indicators[\"ma_fast\"] = df[price_col].rolling(5).mean()\n",
    "    indicators[\"ma_slow\"] = df[price_col].rolling(20).mean()\n",
    "    indicators[\"ma_diff\"] = indicators[\"ma_fast\"] - indicators[\"ma_slow\"]\n",
    "\n",
    "    # Bollinger Bandwidth\n",
    "    bb = BollingerBands(close=df[price_col], window=20, window_dev=2)\n",
    "    indicators[\"bb_width\"] = bb.bollinger_hband() - bb.bollinger_lband()\n",
    "\n",
    "    # Rolling STD (волатильность)\n",
    "    indicators[\"volatility\"] = df[price_col].rolling(window=10).std()\n",
    "\n",
    "    return indicators"
   ]
  },
  {
   "cell_type": "code",
   "execution_count": 26,
   "id": "9db082fd-f005-47ba-aeab-199ad67a8e47",
   "metadata": {},
   "outputs": [],
   "source": [
    "input_file = \"../data/prices/BTC_500ms.csv\"\n",
    "output_file = \"../data/indicators/BTC_500ms.csv\"\n",
    "\n",
    "df = pd.read_csv(input_file)\n",
    "indicators = calculate_indicators(df)"
   ]
  },
  {
   "cell_type": "code",
   "execution_count": 27,
   "id": "d44a2551-a75a-4328-a483-d8743d5a0cb4",
   "metadata": {},
   "outputs": [],
   "source": [
    "indicators.to_csv(output_file, index = False)"
   ]
  },
  {
   "cell_type": "code",
   "execution_count": null,
   "id": "62e679b1-159e-4ca9-af9e-3e9d944deb6a",
   "metadata": {},
   "outputs": [],
   "source": []
  }
 ],
 "metadata": {
  "kernelspec": {
   "display_name": "Python 3 (ipykernel)",
   "language": "python",
   "name": "python3"
  },
  "language_info": {
   "codemirror_mode": {
    "name": "ipython",
    "version": 3
   },
   "file_extension": ".py",
   "mimetype": "text/x-python",
   "name": "python",
   "nbconvert_exporter": "python",
   "pygments_lexer": "ipython3",
   "version": "3.12.6"
  }
 },
 "nbformat": 4,
 "nbformat_minor": 5
}
